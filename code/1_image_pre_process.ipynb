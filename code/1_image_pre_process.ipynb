{
 "cells": [
  {
   "cell_type": "code",
   "execution_count": 44,
   "metadata": {},
   "outputs": [],
   "source": [
    "# Import libraries\n",
    "import os\n",
    "import imgaug.augmenters as iaa\n",
    "import cv2 as cv\n",
    "from moviepy.editor import VideoFileClip\n"
   ]
  },
  {
   "cell_type": "markdown",
   "metadata": {},
   "source": [
    "## Train data pre-processing\n",
    "#### Convert all images to .jpg and change all file name to sequential file name\n",
    "Trained images were accquired from the internet by scraped technique. the name of imeages are random and not in order, and are not in same format.\n",
    "\n",
    "For ease of processing, They will all be converted and changed name by creating function below."
   ]
  },
  {
   "cell_type": "code",
   "execution_count": 106,
   "metadata": {},
   "outputs": [],
   "source": [
    "# create function to convert all images format to .jpg\n",
    "def convert_to_jpg(folder_path):\n",
    "    # Check if the folder exists\n",
    "    if not os.path.exists(folder_path):\n",
    "        print(f\"Folder '{folder_path}' not found.\")\n",
    "        return\n",
    "\n",
    "    # List all files in the folder\n",
    "    files = [f for f in os.listdir(folder_path) if os.path.isfile(os.path.join(folder_path, f))]\n",
    "\n",
    "    # Sort files alphabetically\n",
    "    files.sort()\n",
    "\n",
    "    # Rename files to sequential names\n",
    "    for index, file_name in enumerate(files):\n",
    "        # Get the file extension\n",
    "        file_extension = os.path.splitext(file_name)[1]\n",
    "\n",
    "        # Construct the new file name\n",
    "        new_file_name = f\"{index + 1}.jpg\"\n",
    "\n",
    "        # Construct the new file path\n",
    "        old_file_path = os.path.join(folder_path, file_name)\n",
    "        new_file_path = os.path.join(folder_path, new_file_name)\n",
    "\n",
    "        try:\n",
    "            # Rename the file\n",
    "            os.rename(old_file_path, new_file_path)\n",
    "            print(f\"File successfully renamed: {file_name} -> {new_file_name}\")\n",
    "        except Exception as e:\n",
    "            print(f\"Error renaming file {file_name}: {e}\")"
   ]
  },
  {
   "cell_type": "code",
   "execution_count": 108,
   "metadata": {},
   "outputs": [
    {
     "name": "stdout",
     "output_type": "stream",
     "text": [
      "File successfully renamed: 1.jpg -> 1.jpg\n",
      "File successfully renamed: 10.jpg -> 2.jpg\n",
      "File successfully renamed: 100.jpg -> 3.jpg\n",
      "File successfully renamed: 101.jpg -> 4.jpg\n",
      "File successfully renamed: 102.jpg -> 5.jpg\n",
      "File successfully renamed: 103.jpg -> 6.jpg\n",
      "File successfully renamed: 11.jpg -> 7.jpg\n",
      "File successfully renamed: 117.jpg -> 8.jpg\n",
      "File successfully renamed: 118.jpg -> 9.jpg\n",
      "File successfully renamed: 119.jpg -> 10.jpg\n",
      "File successfully renamed: 12.jpg -> 11.jpg\n",
      "File successfully renamed: 125.jpg -> 12.jpg\n",
      "File successfully renamed: 13.jpg -> 13.jpg\n",
      "File successfully renamed: 14.jpg -> 14.jpg\n",
      "File successfully renamed: 15.jpg -> 15.jpg\n",
      "File successfully renamed: 16.jpg -> 16.jpg\n",
      "File successfully renamed: 17.jpg -> 17.jpg\n",
      "File successfully renamed: 18.jpg -> 18.jpg\n",
      "File successfully renamed: 19.jpg -> 19.jpg\n",
      "File successfully renamed: 20.jpg -> 20.jpg\n",
      "File successfully renamed: 21.jpg -> 21.jpg\n",
      "File successfully renamed: 22.jpg -> 22.jpg\n",
      "File successfully renamed: 23.jpg -> 23.jpg\n",
      "File successfully renamed: 24.jpg -> 24.jpg\n",
      "File successfully renamed: 25.jpg -> 25.jpg\n",
      "File successfully renamed: 26.jpg -> 26.jpg\n",
      "File successfully renamed: 27.jpg -> 27.jpg\n",
      "File successfully renamed: 28.jpg -> 28.jpg\n",
      "File successfully renamed: 29.jpg -> 29.jpg\n",
      "File successfully renamed: 30.jpg -> 30.jpg\n",
      "File successfully renamed: 31.jpg -> 31.jpg\n",
      "File successfully renamed: 32.jpg -> 32.jpg\n",
      "File successfully renamed: 33.jpg -> 33.jpg\n",
      "File successfully renamed: 34.jpg -> 34.jpg\n",
      "File successfully renamed: 35.jpg -> 35.jpg\n",
      "File successfully renamed: 36.jpg -> 36.jpg\n",
      "File successfully renamed: 37.jpg -> 37.jpg\n",
      "File successfully renamed: 38.jpg -> 38.jpg\n",
      "File successfully renamed: 39.jpg -> 39.jpg\n",
      "File successfully renamed: 40.jpg -> 40.jpg\n",
      "File successfully renamed: 41.jpg -> 41.jpg\n",
      "File successfully renamed: 42.jpg -> 42.jpg\n",
      "File successfully renamed: 43.jpg -> 43.jpg\n",
      "File successfully renamed: 44.jpg -> 44.jpg\n",
      "File successfully renamed: 45.jpg -> 45.jpg\n",
      "File successfully renamed: 46.jpg -> 46.jpg\n",
      "File successfully renamed: 47.jpg -> 47.jpg\n",
      "File successfully renamed: 48.jpg -> 48.jpg\n",
      "File successfully renamed: 49.jpg -> 49.jpg\n",
      "File successfully renamed: 50.jpg -> 50.jpg\n",
      "File successfully renamed: 51.jpg -> 51.jpg\n",
      "File successfully renamed: 52.jpg -> 52.jpg\n",
      "File successfully renamed: 53.jpg -> 53.jpg\n",
      "File successfully renamed: 54.jpg -> 54.jpg\n"
     ]
    }
   ],
   "source": [
    "# execute function\n",
    "path_ambulance = '../data/train_image/ambulance/'\n",
    "path_curtain = '../data/train_image/curtain/'\n",
    "convert_to_jpg(path_curtain)"
   ]
  },
  {
   "cell_type": "code",
   "execution_count": 109,
   "metadata": {},
   "outputs": [],
   "source": [
    "# Function to check if image format is compatible with tensorflow\n",
    "\n",
    "from pathlib import Path\n",
    "import imghdr\n",
    "\n",
    "data_dir = path_ambulance  # change path folder here\n",
    "image_extensions = [\".png\", \".jpg\"]  # add there all your images file extensions\n",
    "\n",
    "img_type_accepted_by_tf = [\"bmp\", \"gif\", \"jpeg\", \"png\"]\n",
    "for filepath in Path(data_dir).rglob(\"*\"):\n",
    "    if filepath.suffix.lower() in image_extensions:\n",
    "        img_type = imghdr.what(filepath)\n",
    "        if img_type is None:\n",
    "            print(f\"{filepath} is not an image\")\n",
    "        elif img_type not in img_type_accepted_by_tf:\n",
    "            print(f\"{filepath} is a {img_type}, not accepted by TensorFlow\")"
   ]
  },
  {
   "cell_type": "markdown",
   "metadata": {},
   "source": [
    "#### Image augmentation\n",
    "The selected image may appear in video in different angle, therefore the trained image should be in multiple angle and size"
   ]
  },
  {
   "cell_type": "code",
   "execution_count": 115,
   "metadata": {},
   "outputs": [],
   "source": [
    "# Create a list of augmentation techniques\n",
    "augmentations = [\n",
    "    iaa.Fliplr(p=1.0), # horizontal flips \n",
    "    iaa.Flipud(p=1.0), # vertical flips \n",
    "    iaa.Crop(percent=(0, 0.1)), # random crops \n",
    "    iaa.Affine(rotate=(0, 0)), # rotate \n",
    "    iaa.Affine(rotate=(3, 42)), # rotate \n",
    "    iaa.Affine(rotate=(48, 87)), # rotate \n",
    "    iaa.Affine(rotate=(93, 132)), # rotate \n",
    "    iaa.Affine(rotate=(138, 177)), # rotate \n",
    "    iaa.Affine(rotate=(222, 267)), # rotate \n",
    "    iaa.Affine(rotate=(273, 357)), # rotate     \n",
    "    iaa.GaussianBlur(sigma=(0, 0.5)) # gaussian blur \n",
    "    ]\n"
   ]
  },
  {
   "cell_type": "code",
   "execution_count": 116,
   "metadata": {},
   "outputs": [],
   "source": [
    "# create function to augment images and save them as new file\n",
    "def augment_images(file1, file2,augment, k):\n",
    "    # Read the image\n",
    "    image = cv.imread(file1)\n",
    "\n",
    "    # Augment the image\n",
    "    image_augmented = augment(image=image)\n",
    "    \n",
    "    # Save the image\n",
    "    cv.imwrite(f\"{file2[:-4] + str(augment)[0:4] + str(k)}_augmented.jpg\", image_augmented)"
   ]
  },
  {
   "cell_type": "code",
   "execution_count": 117,
   "metadata": {},
   "outputs": [],
   "source": [
    "# Using loop to execute the augment function and save images\n",
    "folder_path = '../data/train_image/ambulance/'  #ambulance and curtain\n",
    "folder_path_new = '../data/train_image/augmented/ambulance/'  #ambulance and curtain\n",
    "files = [f for f in os.listdir(folder_path) if os.path.isfile(os.path.join(folder_path, f))]\n",
    "\n",
    "for file in files:\n",
    "    file1 = folder_path + file\n",
    "    file2 = folder_path_new + file\n",
    "    for k in range(len(augmentations)):\n",
    "        augment_images(file1, file2, augmentations[k], k)"
   ]
  },
  {
   "cell_type": "markdown",
   "metadata": {},
   "source": [
    "Increase image by crop all of the image in different size"
   ]
  },
  {
   "cell_type": "code",
   "execution_count": 118,
   "metadata": {},
   "outputs": [],
   "source": [
    "# Create a list of augmentation techniques\n",
    "augmentations_2 = [ \n",
    "\n",
    "    iaa.Crop(percent=(0, 0.50)), # random crops\n",
    "    iaa.Crop(percent=(0, 0.75)), # random crops\n",
    "]\n",
    "\n",
    "# repeat the same process for the second set of augmentations\n",
    "folder_path = '../data/train_image/augmented/ambulance/'  #ambulance and curtain\n",
    "folder_path_new = '../data/train_image/augmented/ambulance/'  #ambulance and curtain\n",
    "files = [f for f in os.listdir(folder_path) if os.path.isfile(os.path.join(folder_path, f))]\n",
    "\n",
    "for file in files:\n",
    "    file1 = folder_path + file\n",
    "    file2 = folder_path_new + file\n",
    "    for k in range(len(augmentations_2)):\n",
    "        augment_images(file1, file2, augmentations_2[k], k)"
   ]
  },
  {
   "cell_type": "markdown",
   "metadata": {},
   "source": [
    "## Input conversion\n",
    "\n",
    "The input is viedeo. This code will chop video into multiple picture. Using the first frame of each seconds of video and store them as picture for prediction"
   ]
  },
  {
   "cell_type": "code",
   "execution_count": 13,
   "metadata": {},
   "outputs": [],
   "source": [
    "# Define vidoes path\n",
    "file = '../data/test_video/4.mp4'\n",
    "duration = VideoFileClip(file).duration\n",
    "video = cv.VideoCapture(file)\n",
    "fps = round(video.get(cv.CAP_PROP_FPS))\n",
    "frame_id = int(duration * fps)\n",
    "\n"
   ]
  },
  {
   "cell_type": "code",
   "execution_count": 14,
   "metadata": {},
   "outputs": [],
   "source": [
    "# Create function to extract frames from video and save them as new file name 1.jpg, 2.jpg, etc.\n",
    "def v_to_frame(file, frame_id,k):\n",
    "    video = cv.VideoCapture(file)\n",
    "    video.set(cv.CAP_PROP_POS_FRAMES, frame_id)\n",
    "    ret, frame = video.read()    \n",
    "    cv.imwrite(f'../data/test_data/test_set4/{k}.jpg', frame)\n"
   ]
  },
  {
   "cell_type": "code",
   "execution_count": 15,
   "metadata": {},
   "outputs": [],
   "source": [
    "# using loop to extract 1st frame of every second of video \n",
    "j=1\n",
    "for i in range(0, frame_id+1, fps):\n",
    "        v_to_frame(file, i, j)\n",
    "        j+=1\n",
    "\n"
   ]
  }
 ],
 "metadata": {
  "kernelspec": {
   "display_name": "base",
   "language": "python",
   "name": "python3"
  },
  "language_info": {
   "codemirror_mode": {
    "name": "ipython",
    "version": 3
   },
   "file_extension": ".py",
   "mimetype": "text/x-python",
   "name": "python",
   "nbconvert_exporter": "python",
   "pygments_lexer": "ipython3",
   "version": "3.11.5"
  }
 },
 "nbformat": 4,
 "nbformat_minor": 2
}
